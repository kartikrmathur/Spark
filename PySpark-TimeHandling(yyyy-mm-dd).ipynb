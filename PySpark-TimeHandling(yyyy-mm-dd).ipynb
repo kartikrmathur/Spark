{
 "cells": [
  {
   "cell_type": "code",
   "execution_count": 1,
   "id": "f9ed476c",
   "metadata": {},
   "outputs": [],
   "source": [
    "from pyspark.sql import SparkSession\n",
    "\n",
    "# Create SparkSession\n",
    "spark = SparkSession.builder \\\n",
    "               .appName('TimestampConversion') \\\n",
    "               .getOrCreate()"
   ]
  },
  {
   "cell_type": "code",
   "execution_count": 2,
   "id": "45cbe6dc",
   "metadata": {},
   "outputs": [],
   "source": [
    "from pyspark.sql.functions import *"
   ]
  },
  {
   "cell_type": "code",
   "execution_count": 3,
   "id": "4aad7bb1",
   "metadata": {},
   "outputs": [],
   "source": [
    "df=spark.createDataFrame([[\"1\"]],[\"id\"])"
   ]
  },
  {
   "cell_type": "code",
   "execution_count": 45,
   "id": "23cf326f",
   "metadata": {},
   "outputs": [
    {
     "name": "stdout",
     "output_type": "stream",
     "text": [
      "+------------+------------+\n",
      "|current_date|  yyyy MM dd|\n",
      "+------------+------------+\n",
      "|  2021-12-17|2021/ 12 /17|\n",
      "|  2021-12-17|2021/ 12 /17|\n",
      "+------------+------------+\n",
      "\n"
     ]
    }
   ],
   "source": [
    "df.select(current_date().alias(\"current_date\"),\\\n",
    "          date_format(current_date(),\"yyyy/ MM /dd\").alias(\"yyyy MM dd\"), \n",
    "         ).show()"
   ]
  },
  {
   "cell_type": "code",
   "execution_count": 46,
   "id": "d5a2d58c",
   "metadata": {},
   "outputs": [
    {
     "name": "stdout",
     "output_type": "stream",
     "text": [
      "+------------+------------+\n",
      "|current_date|  yyyy_MM_dd|\n",
      "+------------+------------+\n",
      "|  2021-12-17|2021/ 12/ 17|\n",
      "+------------+------------+\n",
      "\n"
     ]
    }
   ],
   "source": [
    "#convert into spark sql\n",
    "spark.sql(\"select current_date() as current_date, \"+\n",
    "         \"date_format(current_timestamp(),'yyyy/ MM/ dd') as yyyy_MM_dd\").show()"
   ]
  },
  {
   "cell_type": "code",
   "execution_count": 38,
   "id": "1bd604d0",
   "metadata": {},
   "outputs": [
    {
     "name": "stdout",
     "output_type": "stream",
     "text": [
      "+----------+----------+\n",
      "|     input|      date|\n",
      "+----------+----------+\n",
      "|04/05/2021|2021-04-05|\n",
      "|10/05/2021|2021-10-05|\n",
      "+----------+----------+\n",
      "\n"
     ]
    }
   ],
   "source": [
    "\n",
    "from pyspark.sql.functions import *\n",
    "df=spark.createDataFrame([[\"04/05/2021\"],[\"10/05/2021\"]],[\"input\"])\n",
    "df.select(col(\"input\"),to_date(col(\"input\"),\"MM/dd/yyyy\").alias(\"date\")) \\\n",
    "  .show()\n"
   ]
  },
  {
   "cell_type": "code",
   "execution_count": null,
   "id": "16b6e7c2",
   "metadata": {},
   "outputs": [],
   "source": []
  }
 ],
 "metadata": {
  "kernelspec": {
   "display_name": "Python 3",
   "language": "python",
   "name": "python3"
  },
  "language_info": {
   "codemirror_mode": {
    "name": "ipython",
    "version": 3
   },
   "file_extension": ".py",
   "mimetype": "text/x-python",
   "name": "python",
   "nbconvert_exporter": "python",
   "pygments_lexer": "ipython3",
   "version": "3.8.8"
  }
 },
 "nbformat": 4,
 "nbformat_minor": 5
}
